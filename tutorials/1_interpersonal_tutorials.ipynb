{
  "nbformat": 4,
  "nbformat_minor": 0,
  "metadata": {
    "colab": {
      "name": "1_interpersonal_tutorials.ipynb",
      "provenance": [],
      "toc_visible": true,
      "authorship_tag": "ABX9TyPbXZTpQhssR3iV5XF2Waxy",
      "include_colab_link": true
    },
    "kernelspec": {
      "name": "python3",
      "display_name": "Python 3"
    }
  },
  "cells": [
    {
      "cell_type": "markdown",
      "metadata": {
        "id": "view-in-github",
        "colab_type": "text"
      },
      "source": [
        "<a href=\"https://colab.research.google.com/github/waifuai/interpersonal/blob/master/tutorials/1_interpersonal_tutorials.ipynb\" target=\"_parent\"><img src=\"https://colab.research.google.com/assets/colab-badge.svg\" alt=\"Open In Colab\"/></a>"
      ]
    },
    {
      "cell_type": "markdown",
      "metadata": {
        "id": "FkviX1AWfHH7",
        "colab_type": "text"
      },
      "source": [
        "# Interpersonal Tutorials\n",
        "\n",
        "**Compute conversation in real-time.**\n",
        "\n",
        "Interpersonal allows you to compute conversation in real-time.\n",
        "\n",
        "The source code and more documentation is available on [GitHub](https://github.com/waifuai/interpersonal).\n",
        "\n",
        "These tutorials aim to explain how to use Interpersonal.\n",
        "\n",
        "We've collected a core reference set of notebooks in this section outlining the features of Interpersonal."
      ]
    },
    {
      "cell_type": "markdown",
      "metadata": {
        "id": "eeXQowBQfqvZ",
        "colab_type": "text"
      },
      "source": [
        "## Getting Started with Interpersonal\n",
        "\n",
        "This section gives you the tools to run your first Interpersonal computations.\n",
        "\n",
        "1. [Interpersonal Tutorials](./1_interpersonal_tutorials.ipynb) Introduction to Interpersonal.\n",
        "2. [Concepts](./2_concepts.ipynb) (Optional) Explanation of the basic concepts that Interpersonal is based on. This is not required to follow through the rest of the tutorials.\n",
        "3. [Comparing Persons](./3_comparing_persons.ipynb) Compare persons.\n",
        "4. [Creating Traits Databases](./4_creating_traits_databases.ipynb) Create the databases for traits of friendliness and dominance.\n",
        "5. [Creating Persons Database](./5_creating_persons_database.ipynb) Create a database of persons."
      ]
    }
  ]
}