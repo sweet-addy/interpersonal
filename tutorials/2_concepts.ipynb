{
  "nbformat": 4,
  "nbformat_minor": 0,
  "metadata": {
    "colab": {
      "name": "2_concepts.ipynb",
      "provenance": [],
      "authorship_tag": "ABX9TyN6nGBgpUEbWAjFqhWVLlku",
      "include_colab_link": true
    },
    "kernelspec": {
      "name": "python3",
      "display_name": "Python 3"
    }
  },
  "cells": [
    {
      "cell_type": "markdown",
      "metadata": {
        "id": "view-in-github",
        "colab_type": "text"
      },
      "source": [
        "<a href=\"https://colab.research.google.com/github/waifuai/interpersonal/blob/master/tutorials/2_concepts.ipynb\" target=\"_parent\"><img src=\"https://colab.research.google.com/assets/colab-badge.svg\" alt=\"Open In Colab\"/></a>"
      ]
    },
    {
      "cell_type": "markdown",
      "metadata": {
        "id": "wBUHwni3kkbi",
        "colab_type": "text"
      },
      "source": [
        "# Concepts"
      ]
    },
    {
      "cell_type": "markdown",
      "metadata": {
        "id": "_s3zgJ02kkZG",
        "colab_type": "text"
      },
      "source": [
        "## The Leary Circumplex\n",
        "\n",
        "\n",
        "Interpersonal is a based on the Leary Circumplex[1], which in turn is a type of interpersonal circle. An interpersonal circle is a model of interpersonal interaction which plots every interacting person or every word describing a person on a two-dimensional graph. The Leary Circumplex uses such a graph with the axes represent the dominance and friendliness respectively of each person or word on the graph. Interpersonal uses this graph to compute various results.\n",
        "\n",
        "![Imgur](https://i.imgur.com/aqtFRF2.png)\n",
        "*The Leary Circumplex. The x and y axes represent friendliness and dominance respectively.*\n",
        "\n",
        "**References:**\n",
        "\n",
        "[1] Leary, Timothy. Interpersonal Diagnosis of Personality: a Functional Theory and Methodology for Personality Evaluation. Resource Publications, 2004."
      ]
    },
    {
      "cell_type": "markdown",
      "metadata": {
        "id": "ZjXIFPmykkWu",
        "colab_type": "text"
      },
      "source": [
        "## Personality Prediction\n",
        "\n",
        "Every word that describes a characteristic has a location on Interpersonal's embedding.\n",
        "\n",
        "![Imgur](https://i.imgur.com/Qfjl2Yk.png)\n",
        "\n",
        "*Example of words in Interpersonal's embedding. This figure shows the words describing Mary consisting of the words admirable, outgoing and patronizing in the embedding.*\n",
        "\n",
        "Let Mary be a person described by the traits admirable, outgoing and patronizing. The figure above shows the words describing her in the embedding. We can go on to find her defining personality by finding the mean of the coordinates of the words describing her in the embedding.\n",
        "\n",
        "![Imgur](https://i.imgur.com/lBHHsZ7.png)\n",
        "\n",
        "*The mean of the coordinates of the words describing Mary's personality shows the personality that describes Mary.*"
      ]
    },
    {
      "cell_type": "markdown",
      "metadata": {
        "id": "p3lPGfUUkkKP",
        "colab_type": "text"
      },
      "source": [
        "## Contact Suggestion\n",
        "\n",
        "In the case of any situation, Interpersonal can suggest the best person by computing the vector of desired outcome for each situation and finding contacts who have personalities closest to the desired personality.\n",
        "\n",
        "![Imgur](https://i.imgur.com/5K47CuG.png)\n",
        "\n",
        "*Representation graph for the personalities of Mary’s contacts. `d` is the vector of desired outcome and `u` is the vector of Mary’s personality. The ideal contact in this situation is Bob, because his personality is closest to the vector desired personality, `c`.*\n",
        "\n",
        "Interpersonal can also recommend alliances based on the distance between people on the representation graph.\n",
        "\n",
        "![Imgur](https://i.imgur.com/2e7ypHE.png)\n",
        "\n",
        "*Interpersonal would recommend July to be allied with June and Lee because their personalities are the most similar.*\n",
        "\n",
        "Example use cases for alliance recommendations are in multi-player online games when users need to quickly form teams for campaigns."
      ]
    },
    {
      "cell_type": "code",
      "metadata": {
        "id": "S6K2j2qHlHls",
        "colab_type": "code",
        "colab": {}
      },
      "source": [
        ""
      ],
      "execution_count": 0,
      "outputs": []
    }
  ]
}